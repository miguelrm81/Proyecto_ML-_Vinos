{
 "cells": [
  {
   "cell_type": "code",
   "execution_count": 1,
   "metadata": {},
   "outputs": [],
   "source": [
    "import pandas as pd"
   ]
  },
  {
   "cell_type": "code",
   "execution_count": 8,
   "metadata": {},
   "outputs": [],
   "source": [
    "df = pd.read_csv('../../data/processed.csv')"
   ]
  },
  {
   "cell_type": "code",
   "execution_count": 9,
   "metadata": {},
   "outputs": [
    {
     "name": "stdout",
     "output_type": "stream",
     "text": [
      "<class 'pandas.core.frame.DataFrame'>\n",
      "RangeIndex: 6486 entries, 0 to 6485\n",
      "Data columns (total 17 columns):\n",
      " #   Column                Non-Null Count  Dtype  \n",
      "---  ------                --------------  -----  \n",
      " 0   fixed acidity         6486 non-null   float64\n",
      " 1   volatile acidity      6486 non-null   float64\n",
      " 2   citric acid           6486 non-null   float64\n",
      " 3   residual sugar        6486 non-null   float64\n",
      " 4   chlorides             6486 non-null   float64\n",
      " 5   free sulfur dioxide   6486 non-null   float64\n",
      " 6   total sulfur dioxide  6486 non-null   float64\n",
      " 7   density               6486 non-null   float64\n",
      " 8   pH                    6486 non-null   float64\n",
      " 9   sulphates             6486 non-null   float64\n",
      " 10  alcohol               6486 non-null   float64\n",
      " 11  quality               6486 non-null   int64  \n",
      " 12  type_num              6486 non-null   int64  \n",
      " 13  alc-sug               6486 non-null   float64\n",
      " 14  qua-sug               6486 non-null   float64\n",
      " 15  aci-type              6486 non-null   float64\n",
      " 16  alc-citr              6486 non-null   float64\n",
      "dtypes: float64(15), int64(2)\n",
      "memory usage: 861.6 KB\n"
     ]
    }
   ],
   "source": [
    "df.info()"
   ]
  },
  {
   "cell_type": "code",
   "execution_count": 10,
   "metadata": {},
   "outputs": [
    {
     "data": {
      "text/plain": [
       "quality\n",
       "6    2835\n",
       "5    2134\n",
       "7    1079\n",
       "4     214\n",
       "8     193\n",
       "3      26\n",
       "9       5\n",
       "Name: count, dtype: int64"
      ]
     },
     "execution_count": 10,
     "metadata": {},
     "output_type": "execute_result"
    }
   ],
   "source": [
    "df['quality'].value_counts()"
   ]
  },
  {
   "cell_type": "code",
   "execution_count": 17,
   "metadata": {},
   "outputs": [],
   "source": [
    "from sklearn.model_selection import train_test_split\n",
    "train, test = train_test_split(df, test_size=0.2, random_state=10)"
   ]
  },
  {
   "cell_type": "code",
   "execution_count": 18,
   "metadata": {},
   "outputs": [
    {
     "data": {
      "text/plain": [
       "quality\n",
       "6    567\n",
       "5    416\n",
       "7    222\n",
       "4     45\n",
       "8     44\n",
       "3      2\n",
       "9      2\n",
       "Name: count, dtype: int64"
      ]
     },
     "execution_count": 18,
     "metadata": {},
     "output_type": "execute_result"
    }
   ],
   "source": [
    "test['quality'].value_counts()"
   ]
  },
  {
   "cell_type": "code",
   "execution_count": 22,
   "metadata": {},
   "outputs": [
    {
     "data": {
      "text/plain": [
       "quality\n",
       "6    2268\n",
       "5    1718\n",
       "7     857\n",
       "4     169\n",
       "8     149\n",
       "3      24\n",
       "9       3\n",
       "Name: count, dtype: int64"
      ]
     },
     "execution_count": 22,
     "metadata": {},
     "output_type": "execute_result"
    }
   ],
   "source": [
    "train['quality'].value_counts()"
   ]
  },
  {
   "cell_type": "code",
   "execution_count": 23,
   "metadata": {},
   "outputs": [
    {
     "name": "stdout",
     "output_type": "stream",
     "text": [
      "Mean Absolute Error (MAE): 0.1345209283124409\n",
      "Mean Absolute Percentage Error (MAPE): 2.322978838427008%\n",
      "Mean Squared Error (MSE): 0.11851091271994421\n",
      "Root Mean Squared Error (RMSE): 0.3442541397281145\n"
     ]
    }
   ],
   "source": [
    "import pickle\n",
    "from sklearn.metrics import mean_absolute_error, mean_squared_error\n",
    "import numpy as np\n",
    "with open('../../models/trained_model_reg_2GBR.pkl', 'rb') as archivo:\n",
    "    final_model = pickle.load(archivo)\n",
    "\n",
    "X = test.drop(columns='quality')\n",
    "y = test['quality']\n",
    "\n",
    "\n",
    "\n",
    "y_pred = final_model.predict(X)\n",
    "\n",
    "mae = mean_absolute_error(y, y_pred)\n",
    "mape = np.mean(np.abs((y - y_pred) / y)) * 100\n",
    "mse = mean_squared_error(y, y_pred)\n",
    "rmse = np.sqrt(mse)\n",
    "\n",
    "print(f'Mean Absolute Error (MAE): {mae}')\n",
    "print(f'Mean Absolute Percentage Error (MAPE): {mape}%')\n",
    "print(f'Mean Squared Error (MSE): {mse}')\n",
    "print(f'Root Mean Squared Error (RMSE): {rmse}')"
   ]
  },
  {
   "cell_type": "code",
   "execution_count": 25,
   "metadata": {},
   "outputs": [],
   "source": [
    "with open('../../models/trained_model_2gb.pkl', 'rb') as gb :\n",
    "    gb_model = pickle.load(gb)"
   ]
  },
  {
   "cell_type": "code",
   "execution_count": 27,
   "metadata": {},
   "outputs": [
    {
     "name": "stdout",
     "output_type": "stream",
     "text": [
      "Matriz de Confusión:\n",
      "[[  2   0   0   0   0   0   0]\n",
      " [  0  41   3   1   0   0   0]\n",
      " [  1   1 378  34   2   0   0]\n",
      " [  0   2  40 501  22   2   0]\n",
      " [  0   1   3  12 205   1   0]\n",
      " [  0   0   0   3   4  36   1]\n",
      " [  0   0   0   0   0   0   2]]\n",
      "\n",
      "Tasa de Aciertos (Accuracy): 89.75%\n"
     ]
    }
   ],
   "source": [
    "from sklearn.metrics import accuracy_score, confusion_matrix\n",
    "y_pred2 = gb_model.predict(X)\n",
    "\n",
    "cm5 = confusion_matrix(y, y_pred2)\n",
    "accuracy5 = accuracy_score(y, y_pred2)\n",
    "print(\"Matriz de Confusión:\")\n",
    "print(cm5)\n",
    "print(\"\\nTasa de Aciertos (Accuracy): {:.2f}%\".format(accuracy5 * 100))"
   ]
  }
 ],
 "metadata": {
  "kernelspec": {
   "display_name": "Python 3",
   "language": "python",
   "name": "python3"
  },
  "language_info": {
   "codemirror_mode": {
    "name": "ipython",
    "version": 3
   },
   "file_extension": ".py",
   "mimetype": "text/x-python",
   "name": "python",
   "nbconvert_exporter": "python",
   "pygments_lexer": "ipython3",
   "version": "3.11.5"
  }
 },
 "nbformat": 4,
 "nbformat_minor": 2
}

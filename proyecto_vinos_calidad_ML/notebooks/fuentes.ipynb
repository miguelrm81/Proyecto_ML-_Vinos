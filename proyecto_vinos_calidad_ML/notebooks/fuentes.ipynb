{
 "cells": [
  {
   "cell_type": "markdown",
   "metadata": {},
   "source": [
    "\n",
    "\n",
    "## Fuente del .csv principal : [Whine Quality Dataset - KAGGLE](https://www.kaggle.com/datasets/ruthgn/wine-quality-data-set-red-white-wine)\n",
    "\n",
    "### Otro dataset con el que trabaje : [Spanish Wine Quality Dataset - KAGGLE](https://www.kaggle.com/datasets/fedesoriano/spanish-wine-quality-dataset/data)\n",
    "\n"
   ]
  }
 ],
 "metadata": {
  "language_info": {
   "name": "python"
  }
 },
 "nbformat": 4,
 "nbformat_minor": 2
}
